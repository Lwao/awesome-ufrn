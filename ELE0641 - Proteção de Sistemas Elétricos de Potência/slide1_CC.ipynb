{
  "cells": [
    {
      "cell_type": "markdown",
      "metadata": {},
      "source": [
        "---\n",
        "\n",
        "Universidade Federal do Rio Grande do Norte\n",
        "\n",
        "Centro de Tecnologia\n",
        "\n",
        "Departamento de Engenharia Elétrica\n",
        "\n",
        "ELE0641 - Proteção de Sistemas Elétricos de Potência\n",
        "\n",
        "Discente: Levy Gabriel\n",
        "\n",
        "---"
      ]
    },
    {
      "cell_type": "code",
      "execution_count": 2,
      "metadata": {
        "colab": {
          "base_uri": "https://localhost:8080/"
        },
        "id": "S4XZejLwgVt8",
        "outputId": "d5f47aaa-9fb4-4250-d2ca-7d75ca33e0cb"
      },
      "outputs": [
        {
          "name": "stdout",
          "output_type": "stream",
          "text": [
            "Ib =  4183.7\n",
            "\n",
            "Icc3f =  5804.0\n",
            "Icc2f =  5026.4\n",
            "IccFT =  4742.3\n",
            "IccFTm =  198.07\n"
          ]
        }
      ],
      "source": [
        "% Octave kernel\n",
        "\n",
        "z1th = 0.0842 + 1j*0.7159;\n",
        "z2th = z1th;\n",
        "z0th = 0.1314 + 1j*1.1978;\n",
        "Vb = 13.8e3;\n",
        "Sb = 100e6;\n",
        "Ib = Sb/(sqrt(3)*Vb)\n",
        "Zb = Vb^2/Sb;\n",
        "Rf = 40/Zb;\n",
        "\n",
        "disp(\"\")\n",
        "\n",
        "Icc3f = abs(1/(z1th)) * Ib\n",
        "Icc2f = abs(1j*sqrt(3)/(z1th+z2th)) * Ib\n",
        "IccFT = abs(3/(z0th+z1th+z2th)) * Ib\n",
        "IccFTm = abs(3/(z0th+z1th+z2th+3*Rf)) * Ib"
      ]
    },
    {
      "cell_type": "code",
      "execution_count": 3,
      "metadata": {
        "colab": {
          "base_uri": "https://localhost:8080/"
        },
        "id": "UdcSQco1eA5m",
        "outputId": "79b26b2d-3d39-4666-8e65-03cd5ae53b8e"
      },
      "outputs": [
        {
          "name": "stdout",
          "output_type": "stream",
          "text": [
            "ZbAT =  1.9044\n",
            "IbAT =  4183.7\n",
            "ZbBT =  0.0014440\n",
            "IbBT =  151934.28137\n",
            "\n",
            "Icc3f =  1687.6\n",
            "Icc2f =  1461.5\n",
            "IccFT =  1091.2\n",
            "IccFTm =  183.00\n",
            "\n",
            "ZbTAT =  634.80\n",
            "Ztrafo =   0.00000 + 15.16667i\n",
            "\n",
            "Icc3f =  8809.3\n",
            "Icc2f =  7629.1\n",
            "IccFT =  9185.1\n",
            "IccFTm =  43.866\n"
          ]
        }
      ],
      "source": [
        "% Octave kernel\n",
        "\n",
        "z1th = 1.4366 + 1j*2.0204;\n",
        "z2th = z1th;\n",
        "z0th = 1.8948 + 1j*6.4262;\n",
        "VbAT = 13.8e3;\n",
        "VbBT = 380;\n",
        "Sb = 100e6;\n",
        "ZbAT = VbAT^2/Sb\n",
        "IbAT = Sb/(sqrt(3)*VbAT)\n",
        "ZbBT = VbBT^2/Sb\n",
        "IbBT = Sb/(sqrt(3)*VbBT)\n",
        "Rf = 40/ZbAT;\n",
        "\n",
        "disp(\"\")\n",
        "\n",
        "Icc3f = abs(1/(z1th)) * IbAT\n",
        "Icc2f = abs(1j*sqrt(3)/(z1th+z2th)) * IbAT\n",
        "IccFT = abs(3/(z0th+z1th+z2th)) * IbAT\n",
        "IccFTm = abs(3/(z0th+z1th+z2th+3*Rf)) * IbAT\n",
        "\n",
        "disp(\"\")\n",
        "\n",
        "Zt = 1j*4.55/100;\n",
        "SbT = 300e3;\n",
        "ZbTAT = VbAT^2/SbT\n",
        "Ztrafo = Zt * ZbTAT / ZbAT\n",
        "\n",
        "disp(\"\")\n",
        "\n",
        "Rf = 5 / ZbBT;\n",
        "Icc3f = abs(1/(z1th+Ztrafo)) * IbBT\n",
        "Icc2f = abs(1j*sqrt(3)/(z1th+z2th+2*Ztrafo)) * IbBT\n",
        "IccFT = abs(3/(z1th+z2th+3*Ztrafo)) * IbBT\n",
        "IccFTm = abs(3/(z1th+z2th+3*Rf+3*Ztrafo)) * IbBT"
      ]
    },
    {
      "cell_type": "code",
      "execution_count": 4,
      "metadata": {
        "colab": {
          "base_uri": "https://localhost:8080/"
        },
        "id": "A7a7nvb_gVEF",
        "outputId": "55408d40-e5e6-42a4-90aa-dd45bf8d9868"
      },
      "outputs": [
        {
          "name": "stdout",
          "output_type": "stream",
          "text": [
            "n =  62.901\n",
            "N =  36.316\n",
            "\n",
            "IAcc_3fAT =  242.57\n",
            "IBcc_3fAT =  242.57\n",
            "ICcc_3fAT =  242.57\n",
            "\n",
            "IAcc_2fAT =  121.29\n",
            "IBcc_2fAT =  242.58\n",
            "ICcc_2fAT =  121.29\n",
            "\n",
            "IAcc_FTAT =  146.03\n",
            "IBcc_FTAT = 0\n",
            "ICcc_FTAT =  146.03\n",
            "\n",
            "IAcc_FTmAT =  0.69738\n",
            "IBcc_FTmAT = 0\n",
            "ICcc_FTmAT =  0.69738\n"
          ]
        }
      ],
      "source": [
        "% Octave kernel\n",
        "\n",
        "VbAT = 13.8e3;\n",
        "VbBT = 380;\n",
        "n = sqrt(3)*VbAT/VbBT\n",
        "N = VbAT/VbBT\n",
        "\n",
        "disp(\"\")\n",
        "\n",
        "Icc3f = 8809.3;\n",
        "Icc2f = 7629.1;\n",
        "IccFT = 9185.1;\n",
        "IccFTm = 43.866;\n",
        "\n",
        "IAcc_3fAT = Icc3f/N\n",
        "IBcc_3fAT = IAcc_3fAT\n",
        "ICcc_3fAT = IAcc_3fAT\n",
        "\n",
        "disp(\"\")\n",
        "\n",
        "IAcc_2fAT = Icc2f/n\n",
        "IBcc_2fAT = 2*Icc2f/n\n",
        "ICcc_2fAT = IAcc_2fAT\n",
        "\n",
        "disp(\"\")\n",
        "\n",
        "IAcc_FTAT = IccFT/n\n",
        "IBcc_FTAT = 0\n",
        "ICcc_FTAT = IAcc_FTAT\n",
        "\n",
        "disp(\"\")\n",
        "\n",
        "IAcc_FTmAT = IccFTm/n\n",
        "IBcc_FTmAT = 0\n",
        "ICcc_FTmAT = IAcc_FTmAT"
      ]
    }
  ],
  "metadata": {
    "colab": {
      "collapsed_sections": [],
      "name": "slide1_CC.ipynb",
      "provenance": []
    },
    "kernelspec": {
      "display_name": "Octave",
      "language": "octave",
      "name": "python3810jvsc74a57bd01e87f45ea6456f954092e3c66abf7b40f0e1d2f9e9713a423f4cac954e0c2624"
    },
    "language_info": {
      "file_extension": ".m",
      "help_links": [
        {
          "text": "GNU Octave",
          "url": "https://www.gnu.org/software/octave/support.html"
        },
        {
          "text": "Octave Kernel",
          "url": "https://github.com/Calysto/octave_kernel"
        },
        {
          "text": "MetaKernel Magics",
          "url": "https://metakernel.readthedocs.io/en/latest/source/README.html"
        }
      ],
      "mimetype": "text/x-octave",
      "name": "octave",
      "version": "5.2.0"
    }
  },
  "nbformat": 4,
  "nbformat_minor": 0
}
