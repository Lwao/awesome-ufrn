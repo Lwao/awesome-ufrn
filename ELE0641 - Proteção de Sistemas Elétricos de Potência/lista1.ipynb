{
  "nbformat": 4,
  "nbformat_minor": 0,
  "metadata": {
    "colab": {
      "name": "lista1.ipynb",
      "provenance": [],
      "collapsed_sections": []
    },
    "kernelspec": {
      "display_name": "Octave",
      "language": "octave",
      "name": "python3810jvsc74a57bd01e87f45ea6456f954092e3c66abf7b40f0e1d2f9e9713a423f4cac954e0c2624"
    },
    "language_info": {
      "file_extension": ".m",
      "help_links": [
        {
          "text": "GNU Octave",
          "url": "https://www.gnu.org/software/octave/support.html"
        },
        {
          "text": "Octave Kernel",
          "url": "https://github.com/Calysto/octave_kernel"
        },
        {
          "text": "MetaKernel Magics",
          "url": "https://metakernel.readthedocs.io/en/latest/source/README.html"
        }
      ],
      "mimetype": "text/x-octave",
      "name": "octave",
      "version": "5.2.0"
    }
  },
  "cells": [
    {
      "cell_type": "markdown",
      "metadata": {
        "id": "ejSjctJiHNeg"
      },
      "source": [
        "---\n",
        "\n",
        "Universidade Federal do Rio Grande do Norte\n",
        "\n",
        "Centro de Tecnologia\n",
        "\n",
        "Departamento de Engenharia Elétrica\n",
        "\n",
        "ELE0641 - Proteção de Sistemas Elétricos de Potência\n",
        "\n",
        "Discente: Levy Gabriel\n",
        "\n",
        "---"
      ]
    },
    {
      "cell_type": "code",
      "metadata": {
        "id": "0Mh9-SFkI1vY"
      },
      "source": [
        "!apt install octave &> /dev/null"
      ],
      "execution_count": 11,
      "outputs": []
    },
    {
      "cell_type": "code",
      "metadata": {
        "colab": {
          "base_uri": "https://localhost:8080/"
        },
        "id": "uHFMORzrHViJ",
        "outputId": "287854fb-6c09-49ac-9663-5c5ab1551f52"
      },
      "source": [
        "%%writefile a.m\n",
        "\n",
        "z1th = 0.2263+1j*1.0435;\n",
        "z2th = z1th;\n",
        "z0th = 0.3097+1j*1.9018;\n",
        "\n",
        "z1 = 0.4387+1j*0.4567;\n",
        "z2 = z1;\n",
        "z0 = 0.6163+1j*1.9135;\n",
        "\n",
        "z = 1j*0.055;\n",
        "Vb = 13.8e3;\n",
        "Sb = 100e6;\n",
        "SbT = 0.5e6;\n",
        "Ib = Sb/(sqrt(3)*Vb);\n",
        "Zb = Vb^2/Sb\n",
        "IbT = SbT/(sqrt(3)*Vb);\n",
        "ZbT = Vb^2/SbT\n",
        "\n",
        "RT = 40/Zb;\n",
        "Rt = 5/Zb;\n",
        "l = 1;\n",
        "\n",
        "disp(\"\")\n",
        "Z1AB = l*z1/Zb\n",
        "Z2AB = l*z2/Zb\n",
        "Z0AB = l*z0/Zb\n",
        "disp(\"\")\n",
        "Z1BD = Z1AB\n",
        "Z2BD = Z2AB\n",
        "Z0BD = Z0AB\n",
        "ZL12 = Z1AB;\n",
        "ZL0 = Z0AB;\n",
        "disp(\"\")\n",
        "Z1T = z*ZbT/Zb\n",
        "Z2T = z*ZbT/Zb\n",
        "Z0T = z*ZbT/Zb\n",
        "ZT = Z1T;\n",
        "disp(\"\")\n",
        "disp(\"Ponto A\")\n",
        "Icc3f = abs(1/(z1th)) * Ib\n",
        "Icc2f = abs(1j*sqrt(3)/(z1th+z2th)) * Ib\n",
        "IccFT = abs(3/(z0th+z1th+z2th)) * Ib\n",
        "IccFTm = abs(3/(z0th+z1th+z2th+3*Rt)) * Ib\n",
        "disp(\"Ponto B\")\n",
        "Icc3f = abs(1/(z1th+ZL12)) * Ib\n",
        "Icc2f = abs(1j*sqrt(3)/(2*z1th+2*+ZL12)) * Ib\n",
        "IccFT = abs(3/(z0th+2*z1th+ZL0+2*ZL12)) * Ib\n",
        "IccFTm = abs(3/(z0th+2*z1th+ZL0+2*ZL12+3*RT)) * Ib\n",
        "disp(\"Ponto C\")\n",
        "Icc3f = abs(1/(z1th+ZL12+ZT)) * Ib\n",
        "Icc2f = abs(1j*sqrt(3)/(2*z1th+2*+ZL12+2*ZT)) * Ib\n",
        "IccFT = abs(3/(2*z1th+2*ZL12+3*ZT)) * Ib\n",
        "IccFTm = abs(3/(2*z1th+2*ZL12+3*ZT+3*Rt)) * Ib\n",
        "disp(\"Ponto D\")\n",
        "Icc3f = abs(1/(z1th+2*ZL12)) * Ib\n",
        "Icc2f = abs(1j*sqrt(3)/(2*z1th+4*+ZL12)) * Ib\n",
        "IccFT = abs(3/(z0th+2*z1th+2*ZL0+4*ZL12)) * Ib\n",
        "IccFTm = abs(3/(z0th+2*z1th+2*ZL0+4**ZL12+3*RT)) * Ib\n"
      ],
      "execution_count": 66,
      "outputs": [
        {
          "output_type": "stream",
          "name": "stdout",
          "text": [
            "Overwriting a.m\n"
          ]
        }
      ]
    },
    {
      "cell_type": "code",
      "metadata": {
        "colab": {
          "base_uri": "https://localhost:8080/"
        },
        "id": "dPZh52hPKCBV",
        "outputId": "0885bf40-1c96-4bd3-fa46-921f94ded534"
      },
      "source": [
        "!octave -W a.m"
      ],
      "execution_count": 67,
      "outputs": [
        {
          "output_type": "stream",
          "name": "stdout",
          "text": [
            "Zb =  1.9044\n",
            "ZbT =  380.88\n",
            "\n",
            "Z1AB =  0.23036 + 0.23981i\n",
            "Z2AB =  0.23036 + 0.23981i\n",
            "Z0AB =  0.32362 + 1.00478i\n",
            "\n",
            "Z1BD =  0.23036 + 0.23981i\n",
            "Z2BD =  0.23036 + 0.23981i\n",
            "Z0BD =  0.32362 + 1.00478i\n",
            "\n",
            "Z1T =   0 + 11i\n",
            "Z2T =   0 + 11i\n",
            "Z0T =   0 + 11i\n",
            "\n",
            "Ponto A\n",
            "Icc3f =  3918.2\n",
            "Icc2f =  3393.3\n",
            "IccFT =  3090.6\n",
            "IccFTm =  1319.1\n",
            "Ponto B\n",
            "Icc3f =  3071.4\n",
            "Icc2f =  2659.9\n",
            "IccFT =  2206.8\n",
            "IccFTm =  193.72\n",
            "Ponto C\n",
            "Icc3f =  340.36\n",
            "Icc2f =  294.76\n",
            "IccFT =  352.77\n",
            "IccFTm =  342.58\n",
            "Ponto D\n",
            "Icc3f =  2503.9\n",
            "Icc2f =  2168.4\n",
            "IccFT =  1710.5\n",
            "IccFTm =  190.06\n"
          ]
        }
      ]
    },
    {
      "cell_type": "code",
      "metadata": {
        "colab": {
          "base_uri": "https://localhost:8080/"
        },
        "id": "-mQyZMjw6HP1",
        "outputId": "bee3fad0-eb0b-4a25-d161-02f16e47eeb0"
      },
      "source": [
        "%%writefile b.m\n",
        "\n",
        "Ins1 = 20\n",
        "Ins2 = 10\n",
        "Ins3 = 225e3/(sqrt(3)*13.8e3)\n",
        "Ins4 = 75e3/(sqrt(3)*13.8e3)"
      ],
      "execution_count": 68,
      "outputs": [
        {
          "output_type": "stream",
          "name": "stdout",
          "text": [
            "Writing b.m\n"
          ]
        }
      ]
    },
    {
      "cell_type": "code",
      "metadata": {
        "colab": {
          "base_uri": "https://localhost:8080/"
        },
        "id": "Iququ-Tz6Idz",
        "outputId": "8c729d11-f17c-4c21-c4eb-8d64421db1e1"
      },
      "source": [
        "!octave -W b.m"
      ],
      "execution_count": 69,
      "outputs": [
        {
          "output_type": "stream",
          "name": "stdout",
          "text": [
            "Ins1 =  20\n",
            "Ins2 =  10\n",
            "Ins3 =  9.4133\n",
            "Ins4 =  3.1378\n"
          ]
        }
      ]
    }
  ]
}